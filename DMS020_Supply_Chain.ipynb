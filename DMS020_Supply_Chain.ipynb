{
 "cells": [
  {
   "metadata": {},
   "cell_type": "markdown",
   "source": [
    "___\n",
    "\n",
    "<center><h1>Supply Chain Analysis</h1></center>\n",
    "\n",
    "___\n",
    "\n",
    "<center><h2>DSM020 - Data Programming in Python</h2></center><br>\n",
    "<center><strong>Teacher:</strong> Sean McGrath </center>\n",
    "\n",
    "___\n",
    "<p></p>\n",
    "<center style=\"color: #AA6373; font-weight: 400;\"><strong>Presented by:</strong></center>\n",
    "<center style=\"color: #AA6373; font-weight: 400;\">Jorge Forero L.</center>\n",
    "<center style=\"color: #AA6373; font-weight: 400;\">Student Number: 240323983</center>\n",
    "<center style=\"color: #AA6373; font-weight: 400;\">Student Portal Username: JEFL1</center>\n",
    "<center>August 2024</center>\n",
    "<p></p>"
   ],
   "id": "ca779409fb80c068"
  },
  {
   "metadata": {
    "ExecuteTime": {
     "end_time": "2024-09-14T17:28:16.628598Z",
     "start_time": "2024-09-14T17:28:16.207525Z"
    }
   },
   "cell_type": "code",
   "source": [
    "# Common Modules\n",
    "import pandas as pd\n",
    "import numpy as np\n",
    "import matplotlib.pyplot as plt\n",
    "import seaborn as sns\n",
    "import s3fs\n",
    "\n",
    "# Data Preparation\n",
    "from sklearn.model_selection import train_test_split\n",
    "from sklearn.preprocessing import StandardScaler, OneHotEncoder\n",
    "from sklearn.compose import ColumnTransformer\n",
    "from sklearn.pipeline import Pipeline\n",
    "from sklearn.impute import SimpleImputer\n",
    "\n",
    "# Modelling\n",
    "from sklearn.ensemble import RandomForestClassifier, GradientBoostingClassifier\n",
    "from sklearn.linear_model import LogisticRegression\n",
    "\n",
    "# Testing and Evaluation\n",
    "from sklearn.metrics import roc_auc_score, classification_report, confusion_matrix, roc_curve, accuracy_score\n",
    "from sklearn.model_selection import GridSearchCV"
   ],
   "id": "52f31e09253afb3",
   "outputs": [],
   "execution_count": 1
  },
  {
   "metadata": {},
   "cell_type": "markdown",
   "source": [
    "## Data Understanding\n",
    "\n",
    "This phase involves collecting the data, describing its attributes and performing the data exploratory analysis. For this coursework we use data that can be found in open data sources [1]. The data used to develop this project was selected given the requirements described by the instru ctor of the subject."
   ],
   "id": "46ae8c5ddbaaf7af"
  },
  {
   "metadata": {},
   "cell_type": "markdown",
   "source": "### Data Load",
   "id": "dce57e6114bc5f17"
  },
  {
   "metadata": {
    "ExecuteTime": {
     "end_time": "2024-09-14T17:28:37.521982Z",
     "start_time": "2024-09-14T17:28:34.587070Z"
    }
   },
   "cell_type": "code",
   "source": [
    "# Using the address for the .csv file from the GitHub repository\n",
    "url = 'https://raw.githubusercontent.com/jforeroluque/Supply_Chain_Analysis/main/DataCoSupplyChainDataset.csv'\n",
    "\n",
    "# Load the CSV file into a DataFrame, specifying the encoding\n",
    "df_supply = pd.read_csv(url, encoding='ISO-8859-1', on_bad_lines='skip')\n",
    "\n",
    "# Display the DataFrame\n",
    "print(df_supply.head())"
   ],
   "id": "c8daf0087da4952",
   "outputs": [
    {
     "name": "stdout",
     "output_type": "stream",
     "text": [
      "       Type  Days for shipping (real)  Days for shipment (scheduled)  \\\n",
      "0     DEBIT                         3                              4   \n",
      "1  TRANSFER                         5                              4   \n",
      "2      CASH                         4                              4   \n",
      "3     DEBIT                         3                              4   \n",
      "4   PAYMENT                         2                              4   \n",
      "\n",
      "   Benefit per order  Sales per customer   Delivery Status  \\\n",
      "0          91.250000          314.640015  Advance shipping   \n",
      "1        -249.089996          311.359985     Late delivery   \n",
      "2        -247.779999          309.720001  Shipping on time   \n",
      "3          22.860001          304.809998  Advance shipping   \n",
      "4         134.210007          298.250000  Advance shipping   \n",
      "\n",
      "   Late_delivery_risk  Category Id   Category Name Customer City  ...  \\\n",
      "0                   0           73  Sporting Goods        Caguas  ...   \n",
      "1                   1           73  Sporting Goods        Caguas  ...   \n",
      "2                   0           73  Sporting Goods      San Jose  ...   \n",
      "3                   0           73  Sporting Goods   Los Angeles  ...   \n",
      "4                   0           73  Sporting Goods        Caguas  ...   \n",
      "\n",
      "  Order Zipcode Product Card Id Product Category Id  Product Description  \\\n",
      "0           NaN            1360                  73                  NaN   \n",
      "1           NaN            1360                  73                  NaN   \n",
      "2           NaN            1360                  73                  NaN   \n",
      "3           NaN            1360                  73                  NaN   \n",
      "4           NaN            1360                  73                  NaN   \n",
      "\n",
      "                                  Product Image  Product Name Product Price  \\\n",
      "0  http://images.acmesports.sports/Smart+watch   Smart watch         327.75   \n",
      "1  http://images.acmesports.sports/Smart+watch   Smart watch         327.75   \n",
      "2  http://images.acmesports.sports/Smart+watch   Smart watch         327.75   \n",
      "3  http://images.acmesports.sports/Smart+watch   Smart watch         327.75   \n",
      "4  http://images.acmesports.sports/Smart+watch   Smart watch         327.75   \n",
      "\n",
      "  Product Status shipping date (DateOrders)   Shipping Mode  \n",
      "0              0             2/3/2018 22:56  Standard Class  \n",
      "1              0            1/18/2018 12:27  Standard Class  \n",
      "2              0            1/17/2018 12:06  Standard Class  \n",
      "3              0            1/16/2018 11:45  Standard Class  \n",
      "4              0            1/15/2018 11:24  Standard Class  \n",
      "\n",
      "[5 rows x 53 columns]\n"
     ]
    }
   ],
   "execution_count": 3
  },
  {
   "metadata": {
    "ExecuteTime": {
     "end_time": "2024-09-14T17:29:35.087061Z",
     "start_time": "2024-09-14T17:29:35.082583Z"
    }
   },
   "cell_type": "code",
   "source": "print(df_supply.columns)",
   "id": "b815a5cd3f67b5f7",
   "outputs": [
    {
     "name": "stdout",
     "output_type": "stream",
     "text": [
      "Index(['Type', 'Days for shipping (real)', 'Days for shipment (scheduled)',\n",
      "       'Benefit per order', 'Sales per customer', 'Delivery Status',\n",
      "       'Late_delivery_risk', 'Category Id', 'Category Name', 'Customer City',\n",
      "       'Customer Country', 'Customer Email', 'Customer Fname', 'Customer Id',\n",
      "       'Customer Lname', 'Customer Password', 'Customer Segment',\n",
      "       'Customer State', 'Customer Street', 'Customer Zipcode',\n",
      "       'Department Id', 'Department Name', 'Latitude', 'Longitude', 'Market',\n",
      "       'Order City', 'Order Country', 'Order Customer Id',\n",
      "       'order date (DateOrders)', 'Order Id', 'Order Item Cardprod Id',\n",
      "       'Order Item Discount', 'Order Item Discount Rate', 'Order Item Id',\n",
      "       'Order Item Product Price', 'Order Item Profit Ratio',\n",
      "       'Order Item Quantity', 'Sales', 'Order Item Total',\n",
      "       'Order Profit Per Order', 'Order Region', 'Order State', 'Order Status',\n",
      "       'Order Zipcode', 'Product Card Id', 'Product Category Id',\n",
      "       'Product Description', 'Product Image', 'Product Name', 'Product Price',\n",
      "       'Product Status', 'shipping date (DateOrders)', 'Shipping Mode'],\n",
      "      dtype='object')\n"
     ]
    }
   ],
   "execution_count": 4
  },
  {
   "metadata": {},
   "cell_type": "markdown",
   "source": "### Volume of the data",
   "id": "578919219aa63b14"
  },
  {
   "metadata": {
    "ExecuteTime": {
     "end_time": "2024-09-14T17:32:32.760228Z",
     "start_time": "2024-09-14T17:32:32.751397Z"
    }
   },
   "cell_type": "code",
   "source": [
    "# Records\n",
    "num_records = len(df_supply)\n",
    "\n",
    "# Features\n",
    "num_features = len(df_supply.columns)\n",
    "\n",
    "print(f\"The dataset has {num_records} records and {num_features} features.\")"
   ],
   "id": "609f0a1ae97ae63f",
   "outputs": [
    {
     "name": "stdout",
     "output_type": "stream",
     "text": [
      "The dataset has 180519 records and 53 features.\n"
     ]
    }
   ],
   "execution_count": 6
  },
  {
   "metadata": {},
   "cell_type": "markdown",
   "source": [
    "### Features explanation \n",
    "\n",
    "|Feature| Explanation|\n",
    "|:-:|:---|\n",
    "|Type| Type of transaction made\n",
    "|Days for shipping (real)| Actual shipping days of the purchased product\n",
    "|Days for shipment (scheduled)| Days of scheduled delivery of the purchased product\n",
    "|Benefit per order| Earnings per order placed\n",
    "|Sales per customer| Total sales per customer made per customer\n",
    "|Delivery Status| Delivery status of orders| Advance shipping , Late delivery , Shipping canceled , Shipping on tim...\n",
    "|Late_delivery_risk| Categorical variable that indicates if sending is late (1), it is not late (0).\n",
    "|Category Id| Product category code\n",
    "|Category Name| Description of the product category\n",
    "|Customer City| City where the customer made the purchase\n",
    "|Customer Country| Country where the customer made the purchase\n",
    "|Customer Email| Customer's email\n",
    "|Customer Fname| Customer name\n",
    "|Customer Id| Customer ID\n",
    "|Customer Lname| Customer lastname\n",
    "|Customer Password| Masked customer key\n",
    "|Customer Segment| Types of Customers| Consumer , Corporate , Home Office\n",
    "|Customer State| State to which the store where the purchase is registered belongs\n",
    "|Customer Street| Street to which the store where the purchase is registered belongs\n",
    "|Customer Zipcode| Customer Zipcode\n",
    "|Department Id| Department code of store\n",
    "|Department Name| Department name of store\n",
    "|Latitude| Latitude corresponding to location of store\n",
    "|Longitude| Longitude corresponding to location of store\n",
    "|Market| Market to where the order is delivered | Africa , Europe , LATAM , Pacific Asia , USCA\n",
    "|Order City| Destination city of the order\n",
    "|Order Country| Destination country of the order\n",
    "|Order Customer Id| Customer order code\n",
    "|order date (DateOrders)| Date on which the order is made\n",
    "|Order Id| Order code\n",
    "|Order Item Cardprod Id| Product code generated through the RFID reader\n",
    "|Order Item Discount| Order item discount value\n",
    "|Order Item Discount Rate| Order item discount percentage\n",
    "|Order Item Id| Order item code\n",
    "|Order Item Product Price| Price of products without discount\n",
    "|Order Item Profit Ratio| Order Item Profit Ratio\n",
    "|Order Item Quantity| Number of products per order\n",
    "|Sales| Value in sales\n",
    "|Order Item Total| Total amount per order\n",
    "|Order Profit Per Order| Order Profit Per Order\n",
    "|Order Region| Region of the world where the order is delivered | Southeast Asia ,South Asia ,Oceania ,Eastern ...\n",
    "|Order State| State of the region where the order is delivered\n",
    "|Order Status| Order Status | COMPLETE , PENDING , CLOSED , PENDING_PAYMENT ,CANCELED , PROCESSING ,SUSPECTED_FR...\n",
    "|Product Card Id| Product code\n",
    "|Product Category Id| Product category code\n",
    "|Product Description| Product Description\n",
    "|Product Image| Link of visit and purchase of the product\n",
    "|Product Name| Product Name\n",
    "|Product Price| Product Price\n",
    "|Product Status| Status of the product stock |If it is 1 not available , 0 the product is available\n",
    "|Shipping date (DateOrders)| Exact date and time of shipment\n",
    "|Shipping Mode| The following shipping modes are presented | Standard Class , First Class , Second Class , Same D...\""
   ],
   "id": "dd86d05d1efe66c6"
  },
  {
   "metadata": {},
   "cell_type": "markdown",
   "source": "## Exploratory Data Analysis",
   "id": "1a8b51c87d6e1a0e"
  },
  {
   "metadata": {},
   "cell_type": "markdown",
   "source": [
    "### Missing Values\n",
    "\n",
    "We will be dropping the rows with missing values in the features that are the most relevant for the analysis we will be doing in this project. "
   ],
   "id": "a1c115fbfa21adc6"
  },
  {
   "metadata": {
    "ExecuteTime": {
     "end_time": "2024-09-14T17:34:37.580284Z",
     "start_time": "2024-09-14T17:34:37.479320Z"
    }
   },
   "cell_type": "code",
   "source": [
    "# Dropping rows with missing values in critical columns\n",
    "df_cleaned = df_supply.dropna(subset=[\n",
    "    \"Late_delivery_risk\",\n",
    "    \"Order Item Product Price\",\n",
    "    \"Order Item Quantity\",\n",
    "    \"Days for shipment (scheduled)\",\n",
    "    \"Days for shipping (real)\",\n",
    "    \"Customer Segment\",\n",
    "    \"Order Country\",\n",
    "    \"Shipping Mode\"\n",
    "])\n",
    "\n",
    "# Show the first 5 rows of cleaned data\n",
    "print(df_cleaned.head(5))"
   ],
   "id": "c4d5a0f4929f2ccc",
   "outputs": [
    {
     "name": "stdout",
     "output_type": "stream",
     "text": [
      "       Type  Days for shipping (real)  Days for shipment (scheduled)  \\\n",
      "0     DEBIT                         3                              4   \n",
      "1  TRANSFER                         5                              4   \n",
      "2      CASH                         4                              4   \n",
      "3     DEBIT                         3                              4   \n",
      "4   PAYMENT                         2                              4   \n",
      "\n",
      "   Benefit per order  Sales per customer   Delivery Status  \\\n",
      "0          91.250000          314.640015  Advance shipping   \n",
      "1        -249.089996          311.359985     Late delivery   \n",
      "2        -247.779999          309.720001  Shipping on time   \n",
      "3          22.860001          304.809998  Advance shipping   \n",
      "4         134.210007          298.250000  Advance shipping   \n",
      "\n",
      "   Late_delivery_risk  Category Id   Category Name Customer City  ...  \\\n",
      "0                   0           73  Sporting Goods        Caguas  ...   \n",
      "1                   1           73  Sporting Goods        Caguas  ...   \n",
      "2                   0           73  Sporting Goods      San Jose  ...   \n",
      "3                   0           73  Sporting Goods   Los Angeles  ...   \n",
      "4                   0           73  Sporting Goods        Caguas  ...   \n",
      "\n",
      "  Order Zipcode Product Card Id Product Category Id  Product Description  \\\n",
      "0           NaN            1360                  73                  NaN   \n",
      "1           NaN            1360                  73                  NaN   \n",
      "2           NaN            1360                  73                  NaN   \n",
      "3           NaN            1360                  73                  NaN   \n",
      "4           NaN            1360                  73                  NaN   \n",
      "\n",
      "                                  Product Image  Product Name Product Price  \\\n",
      "0  http://images.acmesports.sports/Smart+watch   Smart watch         327.75   \n",
      "1  http://images.acmesports.sports/Smart+watch   Smart watch         327.75   \n",
      "2  http://images.acmesports.sports/Smart+watch   Smart watch         327.75   \n",
      "3  http://images.acmesports.sports/Smart+watch   Smart watch         327.75   \n",
      "4  http://images.acmesports.sports/Smart+watch   Smart watch         327.75   \n",
      "\n",
      "  Product Status shipping date (DateOrders)   Shipping Mode  \n",
      "0              0             2/3/2018 22:56  Standard Class  \n",
      "1              0            1/18/2018 12:27  Standard Class  \n",
      "2              0            1/17/2018 12:06  Standard Class  \n",
      "3              0            1/16/2018 11:45  Standard Class  \n",
      "4              0            1/15/2018 11:24  Standard Class  \n",
      "\n",
      "[5 rows x 53 columns]\n"
     ]
    }
   ],
   "execution_count": 7
  },
  {
   "metadata": {},
   "cell_type": "code",
   "outputs": [],
   "execution_count": null,
   "source": "",
   "id": "3e0372920dbc9202"
  }
 ],
 "metadata": {
  "kernelspec": {
   "display_name": "Python 3",
   "language": "python",
   "name": "python3"
  },
  "language_info": {
   "codemirror_mode": {
    "name": "ipython",
    "version": 2
   },
   "file_extension": ".py",
   "mimetype": "text/x-python",
   "name": "python",
   "nbconvert_exporter": "python",
   "pygments_lexer": "ipython2",
   "version": "2.7.6"
  }
 },
 "nbformat": 4,
 "nbformat_minor": 5
}
